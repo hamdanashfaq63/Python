{
 "cells": [
  {
   "cell_type": "markdown",
   "id": "44e28600-a5b4-4d95-817a-6c93a4cf4273",
   "metadata": {},
   "source": [
    "## Python Practice"
   ]
  },
  {
   "cell_type": "code",
   "execution_count": null,
   "id": "59e155da-53ee-433d-bd7d-062eec2a47e4",
   "metadata": {},
   "outputs": [],
   "source": [
    "import turtle\n",
    "\n",
    "\n",
    "turtle.setworldcoordinates(0, 0, 3, 1)\n",
    "\n",
    "\n",
    "nest_dist = 3\n",
    "number_of_steps = 300\n",
    "step_length = nest_dist / number_of_steps\n",
    "\n",
    "\n",
    "ant = turtle.Turtle()\n",
    "ant.goto(0, 0)\n",
    "\n",
    "\n",
    "fly = turtle.Turtle()\n",
    "fly.penup()\n",
    "fly.goto(0, 1)\n",
    "\n",
    "fly.pendown()\n",
    "\n",
    "for i in range(number_of_steps):\n",
    "    fly.setheading(fly.towards(ant))\n",
    "    fly.forward(step_length)\n",
    "    ant.forward(step_length)\n",
    "\n",
    "\n",
    "final_dist = ant.distance(fly)\n",
    "\n",
    "\n",
    "print(final_dist)"
   ]
  },
  {
   "cell_type": "code",
   "execution_count": 6,
   "id": "6e2d585f-a0e7-4945-8c8b-b04580bdb1b1",
   "metadata": {
    "tags": []
   },
   "outputs": [
    {
     "name": "stdout",
     "output_type": "stream",
     "text": [
      "{'T': 1, 'e': 2, 't': 1, 'h': 1, '.': 1}\n"
     ]
    }
   ],
   "source": [
    "def charFreqs( text ):\n",
    "    myDict = {}\n",
    "    for char in text:\n",
    "        if char in myDict:\n",
    "            myDict[char] += 1\n",
    "        else:\n",
    "            myDict[char] = 1\n",
    "    return myDict\n",
    "\n",
    "print(charFreqs(\"Teeth.\"))"
   ]
  },
  {
   "cell_type": "code",
   "execution_count": 5,
   "id": "d9c842b4-07e4-48a4-97e3-51eafb74f8f1",
   "metadata": {
    "tags": []
   },
   "outputs": [
    {
     "name": "stdout",
     "output_type": "stream",
     "text": [
      "False\n"
     ]
    }
   ],
   "source": [
    "def evenLength(data):\n",
    "    if data == []:\n",
    "        return True\n",
    "    if data[1:]== []:\n",
    "        return False\n",
    "    else:\n",
    "        return evenLength( data[2:] )\n",
    "    \n",
    "print(evenLength([1]))"
   ]
  },
  {
   "cell_type": "code",
   "execution_count": null,
   "id": "603398ab-fc3d-440e-9d95-ca89bd2b370e",
   "metadata": {},
   "outputs": [],
   "source": [
    "def mostFrequent( frequencies ):\n",
    "    frequencyValues = list(frequencies.values())\n",
    "    maxFrequency = max(frequencyValues)\n",
    "    \n",
    "    mostFrequentKeys = []\n",
    "    for key in frequencies:\n",
    "        if frequencies[key] == maxFrequency:\n",
    "            mostFrequentKeys.append(key)\n",
    "    return mostFrequentKeys"
   ]
  },
  {
   "cell_type": "code",
   "execution_count": null,
   "id": "0112e19c-1621-4813-bfc2-ff128f3652de",
   "metadata": {},
   "outputs": [],
   "source": [
    "def count(data , target ):\n",
    "    if data == []:\n",
    "        return 0\n",
    "    if data[0] == target:\n",
    "        return 1 + count(data[1:] , target)\n",
    "    else:\n",
    "        return 0 + count( data[1:] , target )"
   ]
  },
  {
   "cell_type": "markdown",
   "id": "139f45bd-935b-4e32-bb0d-8f912e946150",
   "metadata": {},
   "source": [
    "Example) : write a RECURVISE  function isPalindrome ( text ) that returns True \n",
    "if the string 'text' is a palindrome , False if it's not.\n",
    "\n",
    "Example of a palindrome:\n",
    "\n",
    "tenet"
   ]
  },
  {
   "cell_type": "code",
   "execution_count": 14,
   "id": "e4409af5-73b7-4041-875c-f5a81808d2d4",
   "metadata": {
    "tags": []
   },
   "outputs": [
    {
     "data": {
      "text/plain": [
       "False"
      ]
     },
     "execution_count": 14,
     "metadata": {},
     "output_type": "execute_result"
    }
   ],
   "source": [
    "def isPalindrome ( text ):\n",
    "    if text == \"\":\n",
    "        return True\n",
    "    if len(text) == 1:\n",
    "        return True\n",
    "    else:\n",
    "        return text[0] == text[-1] and isPalindrome( text[1:-1] )\n",
    "    \n",
    "isPalindrome(\"\")\n",
    "    \n"
   ]
  },
  {
   "cell_type": "code",
   "execution_count": 1,
   "id": "350a82e8-d8e7-4825-a9c0-cc77e323057f",
   "metadata": {
    "tags": []
   },
   "outputs": [],
   "source": [
    "import turtle\n",
    "import math\n",
    "def drawSquare(tortoise, width):\n",
    "    for i in range(4):\n",
    "        tortoise.forward(width)\n",
    "        tortoise.left(90)\n",
    "\n",
    "        \n",
    "        \n",
    "def drawRectangle( tortoise , length , width ):\n",
    "    for i in range(2):\n",
    "        tortoise.forward(length)\n",
    "        tortoise.left(90)\n",
    "        tortoise.forward(width)\n",
    "        tortoise.left(90)\n",
    "        \n",
    "def drawPolygon(tortoise, sideLength, numSides):\n",
    "    turn_angle = 360/numSides\n",
    "    for i in range(numSides):\n",
    "        tortoise.forward(sideLength)\n",
    "        tortoise.left(turn_angle)\n",
    "        \n",
    "def drawCircle(tortoise, radius):\n",
    "    numSides = 360\n",
    "    circumference = 2 * math.pi * radius\n",
    "    sideLength = circumference / numSides\n",
    "    drawPolygon(tortoise , sideLength , numSides)\n",
    "    \n",
    "def horizontalCircles( tortoise , radius ):\n",
    "    for i in range(10):\n",
    "        tortoise.circle(radius)\n",
    "        tortoise.penup()\n",
    "        tortoise.forward(2*radius)\n",
    "        tortoise.pendown()\n",
    "        \n",
    "def diagonalCircles( tortoise , radius ):\n",
    "    for i in range(10):\n",
    "        tortoise.circle(radius)\n",
    "        tortoise.penup()\n",
    "        tortoise.forward(2 * radius)\n",
    "        tortoise.left(90)\n",
    "        tortoise.forward(3*radius)\n",
    "        tortoise.right(90)\n",
    "        tortoise.pendown()\n",
    "        \n",
    "def drawRow(tortoise):\n",
    "    width = 20\n",
    "    for i in range(8):\n",
    "        drawSquare( tortoise , width )\n",
    "        tortoise.penup()\n",
    "        tortoise.forward(width)\n",
    "        tortoise.pendown()\n",
    "\n",
    "def main():\n",
    "    george = turtle.Turtle()\n",
    "    drawRow(george)\n",
    "main()\n",
    "    \n"
   ]
  },
  {
   "cell_type": "code",
   "execution_count": 1,
   "id": "c1c1ecd1-9c14-46bc-a78a-97de266826a3",
   "metadata": {
    "tags": []
   },
   "outputs": [],
   "source": [
    "import turtle\n",
    "def drawFullRow( tortoise , color1 , color2 ):\n",
    "    width = 20\n",
    "    for i in range(8):\n",
    "        if i%2 == 0:\n",
    "            tortoise.fillcolor(color1)\n",
    "            tortoise.begin_fill()\n",
    "            for j in range(4):\n",
    "                tortoise.forward(width)\n",
    "                tortoise.left(90)\n",
    "            tortoise.end_fill()\n",
    "            tortoise.forward(width)\n",
    "        else:\n",
    "            tortoise.fillcolor(color2)\n",
    "            tortoise.begin_fill()\n",
    "            for k in range(4):\n",
    "                tortoise.forward(width)\n",
    "                tortoise.left(90)\n",
    "            tortoise.end_fill()\n",
    "            tortoise.forward(width)\n",
    "            \n",
    "george = turtle.Turtle()\n",
    "drawFullRow(george , 'red' , 'blue')"
   ]
  },
  {
   "cell_type": "code",
   "execution_count": 2,
   "id": "d737d035-af0d-459e-a7c6-e5a85da10da9",
   "metadata": {
    "tags": []
   },
   "outputs": [],
   "source": [
    "import turtle \n",
    "def drawPolygon ( tortoise , sideLength , numSides ):\n",
    "    turnAngle = 360/numSides\n",
    "    for i in range(numSides):\n",
    "        tortoise.forward(sideLength)\n",
    "        tortoise.left(turnAngle)\n",
    "                            \n",
    "def polyFlower( tortoise , sideLength, numSides , numPolygons ):\n",
    "    for i in range(numPolygons):\n",
    "        drawPolygon( tortoise , sideLength , numSides)\n",
    "        tortoise.left(360/numPolygons)\n",
    "        \n",
    "george = turtle.Turtle()\n",
    "polyFlower( george , 100 , 8 , 8 )"
   ]
  },
  {
   "cell_type": "code",
   "execution_count": 1,
   "id": "8bf4d88e-785e-424b-8fc2-215169d8de55",
   "metadata": {
    "tags": []
   },
   "outputs": [],
   "source": [
    "import turtle\n",
    "def drawPolygon(tortoise , sideLength , numSides ):\n",
    "    turnAngle = 360 / numSides\n",
    "    for i in range(numSides):\n",
    "        tortoise.forward(sideLength)\n",
    "        tortoise.left(turnAngle)\n",
    "        \n",
    "def polyFlower ( tortoise , sideLength , numSides , numPolygons ):\n",
    "    for j in range(numPolygons):\n",
    "        drawPolygon( tortoise , sideLength , numSides)\n",
    "        tortoise.left(360/numPolygons)\n",
    "        \n",
    "bob = turtle.Turtle()\n",
    "polyFlower ( bob , 100 , 10 , 10 )"
   ]
  },
  {
   "cell_type": "code",
   "execution_count": 2,
   "id": "a4a827d2-ae65-471a-9b63-544c933ea9e5",
   "metadata": {
    "tags": []
   },
   "outputs": [],
   "source": [
    "import turtle\n",
    "import math \n",
    "def doSomething(z): \n",
    "    a = turtle.Turtle() \n",
    "    b = turtle.Turtle() \n",
    "    c = a.getscreen() \n",
    "    c.setworldcoordinates(-z -1, -z -1, z + 1, z + 1) \n",
    "    a.hideturtle() \n",
    "    b.hideturtle()\n",
    "    a.up()\n",
    "    b.up()\n",
    "    a.goto(-z, 0)\n",
    "    b.goto(-z, 0)\n",
    "    a.down()\n",
    "    b.down()\n",
    "    for d in range(-z, z + 1): \n",
    "        a.goto(d, math.sqrt(z ** 2 -d ** 2)) #sqrt is square root b.goto(d, -math.sqrt(z ** 2 -d ** 2))\n",
    "\n",
    "def main():\n",
    "    doSomething(100)\n",
    "main()"
   ]
  },
  {
   "cell_type": "code",
   "execution_count": 9,
   "id": "e80aea17-d0b9-4b04-b3cf-253d7fd12838",
   "metadata": {
    "tags": []
   },
   "outputs": [
    {
     "name": "stdin",
     "output_type": "stream",
     "text": [
      "What's your fav color?   blue\n",
      "What's your last meal?   cheetos\n"
     ]
    },
    {
     "name": "stdout",
     "output_type": "stream",
     "text": [
      "Your fav band name is The blue cheetos.\n"
     ]
    }
   ],
   "source": [
    "color = input(\"What's your fav color?  \")\n",
    "band = input(\"What's your last meal?  \")\n",
    "print(\"Your fav band name is The \" + str(color) + ' ' + str(band) + \".\")\n",
    "    "
   ]
  },
  {
   "cell_type": "code",
   "execution_count": 16,
   "id": "37d3825e-24a3-4296-994a-b3f9ecd831da",
   "metadata": {
    "tags": []
   },
   "outputs": [
    {
     "name": "stdout",
     "output_type": "stream",
     "text": [
      "(2.350781059358212, -0.8507810593582121)\n"
     ]
    }
   ],
   "source": [
    "import math\n",
    "def quadratic ( a , b , c ):\n",
    "    x1 = (-b + math.sqrt(b**2 - 4*a*c))/(2*a)\n",
    "    x2 = (-b - math.sqrt(b**2 - 4*a*c))/(2*a)\n",
    "    return x1 , x2\n",
    "\n",
    "print(quadratic( 2 , -3 , -4 ))"
   ]
  },
  {
   "cell_type": "code",
   "execution_count": 26,
   "id": "741f68eb-d10d-4031-a99a-d57de6b21f58",
   "metadata": {
    "tags": []
   },
   "outputs": [
    {
     "name": "stdin",
     "output_type": "stream",
     "text": [
      "Enter a value for :  4\n",
      "Enter a value for :  4\n",
      "Enter a value for :  -2\n"
     ]
    },
    {
     "name": "stdout",
     "output_type": "stream",
     "text": [
      "(0.3660254037844386, -1.3660254037844386)\n"
     ]
    }
   ],
   "source": [
    "import math\n",
    "def quadratic( ):\n",
    "    a = int(input(\"Enter a value for : \"))\n",
    "    b = int(input(\"Enter a value for : \"))\n",
    "    c = int(input(\"Enter a value for : \"))\n",
    "    \n",
    "    if b**2-4*a*c == 0:\n",
    "        x = -b/2*a\n",
    "        return x\n",
    "    elif b**2-4*a*c > 0:\n",
    "        x1 = (-b + math.sqrt(b**2 - 4*a*c))/(2*a)\n",
    "        x2 = (-b - math.sqrt(b**2 - 4*a*c))/(2*a)\n",
    "        return x1 , x2\n",
    "    else:\n",
    "        print(\"Imaginary Roots!\")\n",
    "     \n",
    "print(quadratic())\n",
    "    \n",
    "        \n",
    "    "
   ]
  },
  {
   "cell_type": "code",
   "execution_count": 33,
   "id": "abbe834a-f14b-43d1-8fb7-7c60e2892a0b",
   "metadata": {
    "tags": []
   },
   "outputs": [
    {
     "name": "stdin",
     "output_type": "stream",
     "text": [
      "Enter a value for 1st number :  2\n",
      "Enter a value for 2nd number :  1\n"
     ]
    },
    {
     "name": "stdout",
     "output_type": "stream",
     "text": [
      "The total of both numbers is : 3\n"
     ]
    }
   ],
   "source": [
    "def total(number1, number2):\n",
    "    return number1 + number2\n",
    "\n",
    "def main():\n",
    "    number1 = int(input(\"Enter a value for 1st number : \"))\n",
    "    number2 = int(input(\"Enter a value for 2nd number : \"))\n",
    "    total = number1 + number2\n",
    "    print(\"The total of both numbers is : \" + str(total))\n",
    "main()"
   ]
  },
  {
   "cell_type": "code",
   "execution_count": 35,
   "id": "785260ab-2f87-4e47-813d-5a0120b41c24",
   "metadata": {
    "tags": []
   },
   "outputs": [
    {
     "name": "stdin",
     "output_type": "stream",
     "text": [
      "Enter your base :  1.5\n",
      "Enter your exponent :  1.5\n"
     ]
    },
    {
     "name": "stdout",
     "output_type": "stream",
     "text": [
      "The result of your calculation is :  1.8371173070873836\n"
     ]
    }
   ],
   "source": [
    "def power(base, exponent):\n",
    "    return base**exponent\n",
    "\n",
    "def main():\n",
    "    base = float(input(\"Enter your base : \"))\n",
    "    exponent = float(input(\"Enter your exponent : \"))\n",
    "    result = base ** exponent\n",
    "    print(\"The result of your calculation is : \" , result)\n",
    "main()"
   ]
  },
  {
   "cell_type": "code",
   "execution_count": 5,
   "id": "3cee234c-56ea-4ee1-bdbc-8ad7dd051467",
   "metadata": {
    "tags": []
   },
   "outputs": [
    {
     "name": "stdin",
     "output_type": "stream",
     "text": [
      "Enter your number of touchdowns :  1\n",
      "Enter your number of field goals :  1\n",
      "Enter your number of safeties :  1\n"
     ]
    },
    {
     "name": "stdout",
     "output_type": "stream",
     "text": [
      "The football score is: 12\n"
     ]
    }
   ],
   "source": [
    "def football(touchdowns, fieldGoals, safeties):\n",
    "    return ((touchdowns * 7) + ( fieldGoals * 3) + (safeties * 2))\n",
    "    \n",
    "def main():\n",
    "    touchdowns = int(input(\"Enter your number of touchdowns : \"))\n",
    "    fieldGoals = int(input(\"Enter your number of field goals : \"))\n",
    "    safeties = int(input(\"Enter your number of safeties : \"))   \n",
    "    score = football(touchdowns, fieldGoals, safeties)\n",
    "    print(\"The football score is:\", score)\n",
    "main()"
   ]
  },
  {
   "cell_type": "code",
   "execution_count": 8,
   "id": "51109489-ab8c-4455-9d88-df488078cf15",
   "metadata": {
    "tags": []
   },
   "outputs": [
    {
     "name": "stdin",
     "output_type": "stream",
     "text": [
      "Enter your value for P ( in atm ) :  1\n",
      "Enter your value for V ( in liters ) :  1\n",
      "Enter your value for T ( in celsius ) :  1\n"
     ]
    },
    {
     "name": "stdout",
     "output_type": "stream",
     "text": [
      "The number of moles from the given parameters is :  0.04559547692868868\n"
     ]
    }
   ],
   "source": [
    "def moles(V, P, T):\n",
    "    R = 0.08\n",
    "    T_K = T + 273.15\n",
    "    n = (P*V)/(R*T_K)\n",
    "    return n\n",
    "        \n",
    "def main():\n",
    "    P = float(input(\"Enter your value for P ( in atm ) : \"))\n",
    "    V = float(input(\"Enter your value for V ( in liters ) : \"))\n",
    "    T = float(input(\"Enter your value for T ( in celsius ) : \"))\n",
    "    numMoles = moles(V , P , T) \n",
    "    print(\"The number of moles from the given parameters is : \" , numMoles)\n",
    "main()\n"
   ]
  },
  {
   "cell_type": "code",
   "execution_count": 2,
   "id": "5274eeb7-1242-468b-ac18-df953b03e2d5",
   "metadata": {
    "tags": []
   },
   "outputs": [
    {
     "name": "stdout",
     "output_type": "stream",
     "text": [
      "8\n"
     ]
    }
   ],
   "source": [
    "def amoebaGrowth(h , target):\n",
    "    amoebaPop = 1\n",
    "    hours = 0\n",
    "    while amoebaPop < target:\n",
    "        hours = hours + 1\n",
    "        if hours%h == 0:\n",
    "            amoebaPop = amoebaPop*2\n",
    "            \n",
    "    return hours\n",
    "    \n",
    "result = amoebaGrowth(2 , 10)\n",
    "print(result)\n",
    "    "
   ]
  },
  {
   "cell_type": "code",
   "execution_count": 6,
   "id": "a35f15a9-3d62-4962-96b1-3edc7fc355e8",
   "metadata": {
    "tags": []
   },
   "outputs": [
    {
     "name": "stdout",
     "output_type": "stream",
     "text": [
      "120 200\n",
      "220 100\n",
      "320 0\n"
     ]
    }
   ],
   "source": [
    "def vampireApocalypse(v, k, vampires, people, days):\n",
    "    while people > 0:\n",
    "        vampires = vampires + v \n",
    "        people = people - v\n",
    "        print(vampires , people)\n",
    "        \n",
    "vampireApocalypse(100, 70, 20, 300 , 4)"
   ]
  },
  {
   "cell_type": "code",
   "execution_count": 42,
   "id": "53441f75-0504-4c7e-910a-fcbfcf0f19f2",
   "metadata": {
    "tags": []
   },
   "outputs": [
    {
     "name": "stdout",
     "output_type": "stream",
     "text": [
      "2\n"
     ]
    }
   ],
   "source": [
    "import random\n",
    "\n",
    "def roll():\n",
    "    x = random.random()\n",
    "    if x < 1/6:\n",
    "        return 1\n",
    "    elif x < 2/6:\n",
    "        return 2\n",
    "    elif x < 3/6:\n",
    "        return 3\n",
    "    elif x < 4/6:\n",
    "        return 4\n",
    "    elif x < 5/6:\n",
    "        return 5\n",
    "    else:\n",
    "        return 6\n",
    "    \n",
    "print(roll())\n",
    "        \n",
    "    "
   ]
  },
  {
   "cell_type": "code",
   "execution_count": 46,
   "id": "5021d41e-e2a0-4341-8c1d-7ecccc435794",
   "metadata": {
    "tags": []
   },
   "outputs": [
    {
     "name": "stdout",
     "output_type": "stream",
     "text": [
      "1\n"
     ]
    }
   ],
   "source": [
    "import random\n",
    "\n",
    "def loaded():\n",
    "    roll = random.random()\n",
    "    if roll < 0.25:\n",
    "        return 1\n",
    "    elif roll < 0.5:\n",
    "        return 6\n",
    "    elif roll < 0.625:\n",
    "        return 2\n",
    "    elif roll < 0.75:\n",
    "        return 3\n",
    "    elif roll < 0.875:\n",
    "        return 4\n",
    "    else:\n",
    "        return 5\n",
    "    return roll\n",
    "\n",
    "print(loaded())"
   ]
  },
  {
   "cell_type": "code",
   "execution_count": 51,
   "id": "cdae0ccd-4e17-4915-927d-34e3858a32ee",
   "metadata": {
    "tags": []
   },
   "outputs": [
    {
     "name": "stdout",
     "output_type": "stream",
     "text": [
      "2\n",
      "None\n"
     ]
    }
   ],
   "source": [
    "def factors(number):\n",
    "    for num in range(2,number+1):\n",
    "        if number%num == 0:\n",
    "            print (num)\n",
    "       \n",
    "            \n",
    "print(factors(2))\n",
    "        "
   ]
  },
  {
   "cell_type": "code",
   "execution_count": 63,
   "id": "dbde5a26-06b6-4ecb-a663-1be2fabb4831",
   "metadata": {
    "tags": []
   },
   "outputs": [
    {
     "name": "stdout",
     "output_type": "stream",
     "text": [
      "False\n"
     ]
    }
   ],
   "source": [
    "def leapYear(year):\n",
    "    if (year%4 == 0 and year%100 != 0) or (year%400 == 0):\n",
    "        return True\n",
    "    return False\n",
    "\n",
    "print(leapYear(1700))"
   ]
  },
  {
   "cell_type": "code",
   "execution_count": 73,
   "id": "7be9bfd0-2d04-4923-8e5b-4ee324c2bd7b",
   "metadata": {
    "tags": []
   },
   "outputs": [
    {
     "data": {
      "text/plain": [
       "[2000,\n",
       " 2004,\n",
       " 2008,\n",
       " 2012,\n",
       " 2016,\n",
       " 2020,\n",
       " 2024,\n",
       " 2028,\n",
       " 2032,\n",
       " 2036,\n",
       " 2040,\n",
       " 2044,\n",
       " 2048,\n",
       " 2052,\n",
       " 2056,\n",
       " 2060,\n",
       " 2064,\n",
       " 2068,\n",
       " 2072,\n",
       " 2076,\n",
       " 2080,\n",
       " 2084,\n",
       " 2088,\n",
       " 2092,\n",
       " 2096]"
      ]
     },
     "execution_count": 73,
     "metadata": {},
     "output_type": "execute_result"
    }
   ],
   "source": [
    "def leapYear(year):\n",
    "    if (year%4 == 0 and year%100 != 0) or (year%400 == 0):\n",
    "        return True\n",
    "    return False\n",
    "\n",
    "\n",
    "def leapYears(beginYear , endYear):\n",
    "    leap_years=[]\n",
    "    for year in range(beginYear , endYear+1):\n",
    "        if leapYear(year) == True:\n",
    "            leap_years.append(year)\n",
    "    return leap_years\n",
    "\n",
    "leapYears(2000,2100)\n",
    "            "
   ]
  },
  {
   "cell_type": "code",
   "execution_count": 76,
   "id": "82233b8b-f899-49c4-a992-c9c32e14656f",
   "metadata": {
    "tags": []
   },
   "outputs": [
    {
     "data": {
      "text/plain": [
       "False"
      ]
     },
     "execution_count": 76,
     "metadata": {},
     "output_type": "execute_result"
    }
   ],
   "source": [
    "def even(number):\n",
    "    if number%2 == 0:\n",
    "        return True\n",
    "    return False\n",
    "\n",
    "even(0.5)"
   ]
  },
  {
   "cell_type": "code",
   "execution_count": 81,
   "id": "70a5a2c7-19ad-44a5-9435-c9137c9df788",
   "metadata": {
    "tags": []
   },
   "outputs": [
    {
     "data": {
      "text/plain": [
       "True"
      ]
     },
     "execution_count": 81,
     "metadata": {},
     "output_type": "execute_result"
    }
   ],
   "source": [
    "import math\n",
    "\n",
    "def perfectSquare(number):\n",
    "    return number >= 0 and math.sqrt(number) == int(math.sqrt(number))\n",
    "\n",
    "\n",
    "perfectSquare(25)"
   ]
  },
  {
   "cell_type": "code",
   "execution_count": 93,
   "id": "26eb3e99-053d-4fa7-b841-c51cf3858c5e",
   "metadata": {
    "tags": []
   },
   "outputs": [
    {
     "data": {
      "text/plain": [
       "[3, 11, 33]"
      ]
     },
     "execution_count": 93,
     "metadata": {},
     "output_type": "execute_result"
    }
   ],
   "source": [
    "def oddFactors(number):\n",
    "    oddList = []\n",
    "    for num in range(3,number+1):\n",
    "        if (number%num == 0 and num%2!=0):\n",
    "            oddList.append(num)\n",
    "        \n",
    "    return oddList\n",
    "\n",
    "oddFactors(66)"
   ]
  },
  {
   "cell_type": "code",
   "execution_count": 13,
   "id": "776f1026-2bca-4559-bc33-e1b7a2de560b",
   "metadata": {
    "tags": []
   },
   "outputs": [
    {
     "name": "stdout",
     "output_type": "stream",
     "text": [
      "7\n",
      "5\n"
     ]
    }
   ],
   "source": [
    "myVariable = 5\n",
    "def myFunction(param1 , param2):\n",
    "    myVariable = param1 + param2\n",
    "    print(myVariable)\n",
    "\n",
    "def main():\n",
    "    myFunction(3,4)\n",
    "    print(myVariable)\n",
    "main()\n",
    "    "
   ]
  },
  {
   "cell_type": "code",
   "execution_count": 15,
   "id": "9984d0ae-120b-4ce9-9446-fa2174f71aba",
   "metadata": {
    "tags": []
   },
   "outputs": [],
   "source": [
    "import turtle\n",
    "def drawPolygon(turt , sideLength , n):\n",
    "    turnAngle = 360/n\n",
    "    for i in range(n):\n",
    "        turt.forward(sideLength)\n",
    "        turt.left(turnAngle)\n",
    "george = turtle.Turtle()\n",
    "drawPolygon(george , 20 , 6)"
   ]
  },
  {
   "cell_type": "code",
   "execution_count": 19,
   "id": "42efae98-5dd4-469d-ad66-5ad52ca21fe9",
   "metadata": {
    "tags": []
   },
   "outputs": [
    {
     "data": {
      "text/plain": [
       "42"
      ]
     },
     "execution_count": 19,
     "metadata": {},
     "output_type": "execute_result"
    }
   ],
   "source": [
    "def sumTriplesAndQuads(n):\n",
    "    sum = 0\n",
    "    for i in range(n+1):\n",
    "        if i%3 == 0 or i%4 == 0:\n",
    "            sum += i\n",
    "            \n",
    "    return sum\n",
    "\n",
    "sumTriplesAndQuads(14)"
   ]
  },
  {
   "cell_type": "code",
   "execution_count": 22,
   "id": "30d305b1-2094-4044-a136-7dc2b569e87c",
   "metadata": {
    "tags": []
   },
   "outputs": [
    {
     "data": {
      "image/png": "[encoded data removed]",
      "text/plain": [
       "<Figure size 640x480 with 1 Axes>"
      ]
     },
     "metadata": {},
     "output_type": "display_data"
    },
    {
     "data": {
      "text/plain": [
       "84"
      ]
     },
     "execution_count": 22,
     "metadata": {},
     "output_type": "execute_result"
    }
   ],
   "source": [
    "import matplotlib.pyplot as pyplot\n",
    "def doubleTime(A,r):\n",
    "    months = 0\n",
    "    Time = []\n",
    "    Amount = []\n",
    "    target = 2 * A\n",
    "    monthlyRate = r/12\n",
    "    while A < target:\n",
    "        Time.append(months)\n",
    "        Amount.append(A)\n",
    "        A = A * (1 + (monthlyRate/100))\n",
    "        months = months + 1\n",
    "        \n",
    "        \n",
    "    pyplot.plot(Time , Amount , color = \"red\" , label = \"Amount over Time\")\n",
    "    pyplot.legend()\n",
    "    pyplot.xlabel(\"Time\")\n",
    "    pyplot.ylabel(\"Amount (in$)\")\n",
    "    pyplot.show()\n",
    "     \n",
    "    return months\n",
    "\n",
    "doubleTime(100 , 10)     "
   ]
  },
  {
   "cell_type": "code",
   "execution_count": 100,
   "id": "01dc9924-2062-42da-ab99-74a9eb402556",
   "metadata": {
    "tags": []
   },
   "outputs": [
    {
     "data": {
      "text/plain": [
       "16"
      ]
     },
     "execution_count": 100,
     "metadata": {},
     "output_type": "execute_result"
    }
   ],
   "source": [
    "def power(base,exponent):\n",
    "    sum = 1\n",
    "    for i in range(exponent):\n",
    "        sum = sum * base\n",
    "    return sum\n",
    "\n",
    "power(2,4)"
   ]
  },
  {
   "cell_type": "code",
   "execution_count": 108,
   "id": "6fcf67cb-6c3e-4bf2-aa2e-ddbbf68d070e",
   "metadata": {
    "tags": []
   },
   "outputs": [
    {
     "data": {
      "text/plain": [
       "15"
      ]
     },
     "execution_count": 108,
     "metadata": {},
     "output_type": "execute_result"
    }
   ],
   "source": [
    "def sumDigits(number , numDigits):\n",
    "    sum = 0\n",
    "    for i in range(numDigits):\n",
    "        remainder = number%10\n",
    "        sum = sum + remainder\n",
    "        number = number//10\n",
    "    return sum\n",
    "\n",
    "sumDigits(12345,5)"
   ]
  },
  {
   "cell_type": "code",
   "execution_count": 110,
   "id": "b8e019be-f1a2-454c-ae55-3933542f5a40",
   "metadata": {
    "tags": []
   },
   "outputs": [
    {
     "data": {
      "image/png": "[encoded data removed]",
      "text/plain": [
       "<Figure size 640x480 with 1 Axes>"
      ]
     },
     "metadata": {},
     "output_type": "display_data"
    }
   ],
   "source": [
    "import matplotlib.pyplot as pyplot\n",
    "\n",
    "xVals = []\n",
    "yVals = []\n",
    "for i in range(-8,9,1):\n",
    "    xVals.append(i/4)\n",
    "    yVals.append(2*((i/4)+1)**3)\n",
    "    \n",
    "pyplot.plot(xVals, yVals , color = \"red\" , label = \"X VS Y\")\n",
    "pyplot.legend()\n",
    "pyplot.show()\n",
    "    \n",
    "    "
   ]
  },
  {
   "cell_type": "code",
   "execution_count": 2,
   "id": "6397e1bf-c3eb-4193-adf2-7a71c8053297",
   "metadata": {
    "tags": []
   },
   "outputs": [],
   "source": [
    "counter = 0\n",
    "while counter > 10:\n",
    "    print(counter)\n",
    "    counter = counter - 1"
   ]
  },
  {
   "cell_type": "code",
   "execution_count": 12,
   "id": "e048b509-3821-417d-93ad-17fb2d200170",
   "metadata": {
    "tags": []
   },
   "outputs": [
    {
     "name": "stdout",
     "output_type": "stream",
     "text": [
      "2 10000\n",
      "92 9900\n",
      "4682 5300\n",
      "238772 -228800\n",
      "12177362 -12167400\n"
     ]
    }
   ],
   "source": [
    "def vampireApocalypse(v , k , vampires , people , days):\n",
    "    for day in range(days):\n",
    "        print(vampires , people)\n",
    "        converted = vampires * v\n",
    "        vampires = vampires + converted - k\n",
    "        people = people - converted\n",
    "        \n",
    "vampireApocalypse(50 , 10 , 2 , 10000 , 5)\n",
    "        "
   ]
  },
  {
   "cell_type": "code",
   "execution_count": 26,
   "id": "f71215dc-b916-49ba-bc38-34fbd1e15f04",
   "metadata": {
    "tags": []
   },
   "outputs": [
    {
     "name": "stdin",
     "output_type": "stream",
     "text": [
      "Enter A,B, or C:  D\n"
     ]
    },
    {
     "name": "stdout",
     "output_type": "stream",
     "text": [
      "Invalid choice , Please re-enter again\n"
     ]
    },
    {
     "name": "stdin",
     "output_type": "stream",
     "text": [
      "Enter A,B, or C:  e\n"
     ]
    },
    {
     "name": "stdout",
     "output_type": "stream",
     "text": [
      "Invalid choice , Please re-enter again\n"
     ]
    },
    {
     "name": "stdin",
     "output_type": "stream",
     "text": [
      "Enter A,B, or C:  c\n"
     ]
    },
    {
     "name": "stdout",
     "output_type": "stream",
     "text": [
      "C\n"
     ]
    }
   ],
   "source": [
    "def ABC():\n",
    "    good = False\n",
    "    while not good:\n",
    "        count = input(\"Enter A,B, or C: \").upper()\n",
    "        if count in 'ABC':\n",
    "            good = True\n",
    "        else:\n",
    "            print(\"Invalid choice , Please re-enter again\")\n",
    "    return count\n",
    "\n",
    "print(ABC())\n",
    "        \n",
    "            "
   ]
  },
  {
   "cell_type": "code",
   "execution_count": 1,
   "id": "ceb9fd56-2d9e-4a22-85b6-3f276f00265b",
   "metadata": {},
   "outputs": [
    {
     "name": "stdin",
     "output_type": "stream",
     "text": [
      "Enter a number 0\n"
     ]
    },
    {
     "name": "stdout",
     "output_type": "stream",
     "text": [
      "Please re-enter a correct number\n"
     ]
    },
    {
     "name": "stdin",
     "output_type": "stream",
     "text": [
      "Enter a number 90\n"
     ]
    },
    {
     "data": {
      "text/plain": [
       "90"
      ]
     },
     "execution_count": 1,
     "metadata": {},
     "output_type": "execute_result"
    }
   ],
   "source": [
    "def numberPlease():\n",
    "    good = False\n",
    "    while not good:\n",
    "        number = int(input(\"Enter a number\"))\n",
    "        if 1 <= number <= 100:\n",
    "            good = True\n",
    "        else:\n",
    "            print(\"Please re-enter a correct number\")\n",
    "    return number\n",
    "\n",
    "numberPlease()"
   ]
  },
  {
   "cell_type": "code",
   "execution_count": 9,
   "id": "f085fd43-5293-44f2-8679-873d0eb90515",
   "metadata": {
    "tags": []
   },
   "outputs": [
    {
     "name": "stdin",
     "output_type": "stream",
     "text": [
      "Please enter your 1st number 2\n",
      "Please enter your 2nd number 3\n"
     ]
    },
    {
     "name": "stdout",
     "output_type": "stream",
     "text": [
      "2,3\n"
     ]
    }
   ],
   "source": [
    "def differentNumbers():\n",
    "    good = False\n",
    "    while not good:\n",
    "        number1 = int(input(\"Please enter your 1st number\"))\n",
    "        number2 = int(input(\"Please enter your 2nd number\"))\n",
    "        if number1 != number2:\n",
    "            print(str(number1) + \",\" + str(number2))\n",
    "            break\n",
    "        else:\n",
    "            print(\"Same numbers! Please re-enter both numbers\")\n",
    "            \n",
    "differentNumbers()"
   ]
  },
  {
   "cell_type": "code",
   "execution_count": 2,
   "id": "93ff8674-c9ab-4359-920e-9e6b820a0aea",
   "metadata": {},
   "outputs": [
    {
     "data": {
      "text/plain": [
       "2"
      ]
     },
     "execution_count": 2,
     "metadata": {},
     "output_type": "execute_result"
    }
   ],
   "source": [
    "import string\n",
    "def vowels(word):\n",
    "    word = word.lower()\n",
    "    count = 0\n",
    "    for char in word:\n",
    "        if char in 'aeiou':\n",
    "            count = count + 1\n",
    "        \n",
    "            \n",
    "    return count\n",
    "\n",
    "\n",
    "vowels(\"hammmydon\")\n",
    "    "
   ]
  },
  {
   "cell_type": "code",
   "execution_count": 7,
   "id": "ac1b0985-2f63-4c91-88dd-30f4ca382196",
   "metadata": {
    "tags": []
   },
   "outputs": [
    {
     "name": "stdout",
     "output_type": "stream",
     "text": [
      "a\n",
      "b\n",
      "c\n"
     ]
    }
   ],
   "source": [
    "import string\n",
    "def letters(text):\n",
    "    text = text.lower()\n",
    "    for char in text:\n",
    "        print(char)\n",
    "        \n",
    "letters(\"abc\")"
   ]
  },
  {
   "cell_type": "code",
   "execution_count": 9,
   "id": "553acc84-83c0-444d-bb76-f4ca79dd4ce6",
   "metadata": {
    "tags": []
   },
   "outputs": [
    {
     "data": {
      "text/plain": [
       "2"
      ]
     },
     "execution_count": 9,
     "metadata": {},
     "output_type": "execute_result"
    }
   ],
   "source": [
    "def countCharacter(text , letter):\n",
    "    number = 0\n",
    "    for char in text:\n",
    "        if char == letter:\n",
    "            number += 1\n",
    "            \n",
    "    return number\n",
    "\n",
    "countCharacter(\"hammy don\" , \"m\")\n",
    "\n",
    "\n",
    "        \n",
    "    "
   ]
  },
  {
   "cell_type": "code",
   "execution_count": 10,
   "id": "943bb19d-3450-433b-bf77-ca1b3b11b250",
   "metadata": {
    "tags": []
   },
   "outputs": [
    {
     "data": {
      "text/plain": [
       "'hey  how s it going  i m doing fine  thank you '"
      ]
     },
     "execution_count": 10,
     "metadata": {},
     "output_type": "execute_result"
    }
   ],
   "source": [
    "import string\n",
    "def replacePunctuation(text):\n",
    "    text = text.lower()\n",
    "    newText = \"\"\n",
    "    for char in text:\n",
    "        if char not in string.punctuation:\n",
    "            newText += char\n",
    "        else:\n",
    "            newText += \" \"\n",
    "            \n",
    "    return newText\n",
    "\n",
    "replacePunctuation(\"Hey! How's it going? I'm doing fine, thank you.\")"
   ]
  },
  {
   "cell_type": "code",
   "execution_count": null,
   "id": "0a1a6e54-ea0f-4689-8069-5e62292b0aa3",
   "metadata": {},
   "outputs": [],
   "source": [
    "import string\n",
    "def removePunctuation(text):\n",
    "    newText = \"\"\n",
    "    for char in text:\n",
    "        if char not in string.punctuation:\n",
    "            newText = newText + char\n",
    "    return newText\n",
    "   \n",
    "def normalize(text):\n",
    "    txt = text.lower()\n",
    "    newtxt = removePunctuation(text)\n",
    "    return newtxt\n",
    "    \n",
    "def splitIntoWords(text):\n",
    "    word = \"\"\n",
    "    wordList = []\n",
    "    prevChar = \" \" \n",
    "    for char in text:\n",
    "        if char not in string.whitespace:\n",
    "            word = word + char\n",
    "        elif prevChar not in string.whitespace:\n",
    "            wordList.append(word)\n",
    "            word = \"\"\n",
    "        prevChar = char\n",
    "    if word != \"\":\n",
    "        wordList.append(word)\n",
    "    return wordList\n",
    "    \n",
    "\n",
    "def wordToken(text):\n",
    "    newText = normalize(text)\n",
    "    tokens = splitIntoWords(newText)\n",
    "    return tokens\n",
    "    \n",
    "def wordCount(text):\n",
    "    omgtxt = wordToken(text)\n",
    "    return len(omgtxt)"
   ]
  },
  {
   "cell_type": "code",
   "execution_count": 12,
   "id": "cba32302-e4c9-4313-8dca-1b0e268f6ce0",
   "metadata": {
    "tags": []
   },
   "outputs": [
    {
     "data": {
      "text/plain": [
       "'ths s n xmpl.'"
      ]
     },
     "execution_count": 12,
     "metadata": {},
     "output_type": "execute_result"
    }
   ],
   "source": [
    "def noVowels(text):\n",
    "    text = text.lower()\n",
    "    newText = \"\"\n",
    "    for char in text:\n",
    "        if char not in \"aeiou\":\n",
    "            newText += char\n",
    "            \n",
    "    return newText\n",
    "\n",
    "noVowels('this is an example.')\n",
    "            "
   ]
  },
  {
   "cell_type": "code",
   "execution_count": 18,
   "id": "e21c6846-140c-4ea2-a8fa-a3ca61c3fa1b",
   "metadata": {
    "tags": []
   },
   "outputs": [
    {
     "data": {
      "text/plain": [
       "'adduhp'"
      ]
     },
     "execution_count": 18,
     "metadata": {},
     "output_type": "execute_result"
    }
   ],
   "source": [
    "def reverse(text):\n",
    "    newText = \"\"\n",
    "    for char in text:\n",
    "        newText = char + newText\n",
    "        \n",
    "    return newText\n",
    "\n",
    "reverse(\"phudda\")\n",
    "            "
   ]
  },
  {
   "cell_type": "code",
   "execution_count": 19,
   "id": "9f41777e-d8ca-436e-b76b-e2f673a1ba09",
   "metadata": {
    "tags": []
   },
   "outputs": [
    {
     "name": "stdin",
     "output_type": "stream",
     "text": [
      "Enter a number between 1 and 100 (inclusive) pls 101\n"
     ]
    },
    {
     "name": "stdout",
     "output_type": "stream",
     "text": [
      "Invalid number phuddi deya insaan ban\n"
     ]
    },
    {
     "name": "stdin",
     "output_type": "stream",
     "text": [
      "Enter a number between 1 and 100 (inclusive) pls king\n"
     ]
    },
    {
     "name": "stdout",
     "output_type": "stream",
     "text": [
      "kurri yawa tu theek aa?\n"
     ]
    },
    {
     "name": "stdin",
     "output_type": "stream",
     "text": [
      "Enter a number between 1 and 100 (inclusive) pls 100\n"
     ]
    },
    {
     "name": "stdout",
     "output_type": "stream",
     "text": [
      "100\n"
     ]
    }
   ],
   "source": [
    "def numberPlease():\n",
    "    good = False\n",
    "    while not good :\n",
    "        try:\n",
    "            number = int(input(\"Enter a number between 1 and 100 (inclusive) pls\"))\n",
    "            if 1 <= number <= 100:\n",
    "                print(number)\n",
    "                break\n",
    "            else:\n",
    "                print(\"Invalid number phuddi deya insaan ban\")\n",
    "                \n",
    "        except ValueError:\n",
    "            print(\"kurri yawa tu theek aa?\")\n",
    "            \n",
    "numberPlease()\n",
    "            \n",
    "                "
   ]
  },
  {
   "cell_type": "code",
   "execution_count": 20,
   "id": "c95655cb-06f9-4f27-8101-029114784fc2",
   "metadata": {
    "tags": []
   },
   "outputs": [
    {
     "data": {
      "text/plain": [
       "'Ths s n xmpl!'"
      ]
     },
     "execution_count": 20,
     "metadata": {},
     "output_type": "execute_result"
    }
   ],
   "source": [
    "def noVowels(text):\n",
    "    newText = ''\n",
    "    for char in text:\n",
    "        if char not in 'aeiouAEIOU':\n",
    "            newText += char\n",
    "            \n",
    "    return newText\n",
    "\n",
    "noVowels(\"This is an example!\")"
   ]
  },
  {
   "cell_type": "code",
   "execution_count": 24,
   "id": "6d77f1ca-5d19-4d13-9a49-a6f757cc2f5e",
   "metadata": {
    "tags": []
   },
   "outputs": [
    {
     "data": {
      "text/plain": [
       "'Phudd'"
      ]
     },
     "execution_count": 24,
     "metadata": {},
     "output_type": "execute_result"
    }
   ],
   "source": [
    "word = \"Phudda\"\n",
    "word[:-1]"
   ]
  },
  {
   "cell_type": "code",
   "execution_count": 25,
   "id": "be5c894f-98e9-45c1-b5b6-3615b3619f47",
   "metadata": {
    "tags": []
   },
   "outputs": [
    {
     "data": {
      "text/plain": [
       "True"
      ]
     },
     "execution_count": 25,
     "metadata": {},
     "output_type": "execute_result"
    }
   ],
   "source": [
    "'8188' < '82'"
   ]
  },
  {
   "cell_type": "code",
   "execution_count": 29,
   "id": "be46d883-3000-4f7f-82c5-2a4c12f2a537",
   "metadata": {
    "tags": []
   },
   "outputs": [
    {
     "data": {
      "text/plain": [
       "'8'"
      ]
     },
     "execution_count": 29,
     "metadata": {},
     "output_type": "execute_result"
    }
   ],
   "source": [
    "def digit2String(digit):\n",
    "    if not (0<=digit<=9):\n",
    "        return None\n",
    "    else:\n",
    "        return chr(ord('0')+digit)\n",
    "    \n",
    "digit2String(8)\n",
    "        "
   ]
  },
  {
   "cell_type": "code",
   "execution_count": 34,
   "id": "3d8aee03-47ca-459b-a049-da3f5f3968c0",
   "metadata": {
    "tags": []
   },
   "outputs": [
    {
     "name": "stdout",
     "output_type": "stream",
     "text": [
      "6\n"
     ]
    }
   ],
   "source": [
    "import string\n",
    "def letter2Position(letter):\n",
    "    letter = letter.lower()\n",
    "    if not('a' <= letter <= 'z'):\n",
    "        return None\n",
    "    elif 'A' <= letter <= 'Z':\n",
    "        position = ord(letter) - ord('A')\n",
    "        return position\n",
    "    else:\n",
    "        return ord(letter) - ord('a')\n",
    "    \n",
    "print(letter2Position('G'))"
   ]
  },
  {
   "cell_type": "code",
   "execution_count": 39,
   "id": "29ea2130-2ee5-4674-a606-800eb1cd587b",
   "metadata": {
    "tags": []
   },
   "outputs": [
    {
     "data": {
      "text/plain": [
       "('a', 'A')"
      ]
     },
     "execution_count": 39,
     "metadata": {},
     "output_type": "execute_result"
    }
   ],
   "source": [
    "def position2letter(n):\n",
    "    if n< 0 or n>25:\n",
    "        return None\n",
    "    else:\n",
    "        letter = chr(n + ord('a') - 1)\n",
    "        return letter , letter.upper()\n",
    "    \n",
    "position2letter(1)\n",
    "        "
   ]
  },
  {
   "cell_type": "code",
   "execution_count": 45,
   "id": "d17fa226-8cbb-4777-9ba5-6b570718616f",
   "metadata": {
    "tags": []
   },
   "outputs": [
    {
     "data": {
      "text/plain": [
       "'Hamdan'"
      ]
     },
     "execution_count": 45,
     "metadata": {},
     "output_type": "execute_result"
    }
   ],
   "source": [
    "def capitalize(word):\n",
    "    newWord = \"\"\n",
    "    targetLetter = word[0]\n",
    "    for char in word:\n",
    "        if char == targetLetter:\n",
    "            newWord = newWord + chr(ord(targetLetter) - 32)\n",
    "        else:\n",
    "            newWord = newWord + char\n",
    "            \n",
    "    return newWord\n",
    "\n",
    "capitalize(\"hamdan\")\n",
    "        "
   ]
  },
  {
   "cell_type": "code",
   "execution_count": 48,
   "id": "df78204e-ae9b-4d43-9f99-a352e8023fd7",
   "metadata": {
    "tags": []
   },
   "outputs": [
    {
     "data": {
      "text/plain": [
       "'1234'"
      ]
     },
     "execution_count": 48,
     "metadata": {},
     "output_type": "execute_result"
    }
   ],
   "source": [
    "def int2String(number):\n",
    "    string = \"\"\n",
    "    while number > 0:\n",
    "        remainder = number%10\n",
    "        string = digit2String(remainder) + string\n",
    "        number = number//10\n",
    "        \n",
    "    return string\n",
    "\n",
    "int2String(1234)\n",
    "        "
   ]
  },
  {
   "cell_type": "code",
   "execution_count": 49,
   "id": "ee413a28-aa76-409b-8670-db49f9c7ec06",
   "metadata": {
    "tags": []
   },
   "outputs": [
    {
     "name": "stdout",
     "output_type": "stream",
     "text": [
      "{'T': 1, 'e': 2, 't': 1, 'h': 1, '.': 1}\n"
     ]
    }
   ],
   "source": [
    "def charFreqs(text):\n",
    "    freq_dict = {}  # Initialize an empty dictionary to store character frequencies\n",
    "    \n",
    "    for char in text:  # Loop through each character in the text\n",
    "        if char in freq_dict:  # If the character is already a key in the dictionary\n",
    "            freq_dict[char] += 1  # Increment the frequency count by 1\n",
    "        else:  # If the character is not in the dictionary\n",
    "            freq_dict[char] = 1  # Add the character to the dictionary with a frequency of 1\n",
    "    \n",
    "    return freq_dict  # Return the dictionary containing character frequencies\n",
    "\n",
    "# Test the function\n",
    "result = charFreqs(\"Teeth.\")\n",
    "print(result)  # Output the dictionary with character frequencies\n"
   ]
  },
  {
   "cell_type": "code",
   "execution_count": 50,
   "id": "5ab6c521-7bc1-48fb-91f7-1ca046bbb474",
   "metadata": {
    "tags": []
   },
   "outputs": [
    {
     "name": "stdout",
     "output_type": "stream",
     "text": [
      "False\n",
      "True\n",
      "True\n"
     ]
    }
   ],
   "source": [
    "def evenLength(data):\n",
    "    if data == []:\n",
    "        return False\n",
    "    elif len(data) == 2:\n",
    "        return True\n",
    "    else:\n",
    "        n\n",
    "        return evenLength(data[:-1])\n",
    "\n",
    "print(evenLength([]))         # Output: False (empty list)\n",
    "print(evenLength([1, 2, 3]))  # Output: False (odd number of items)\n",
    "print(evenLength([1, 2, 3, 4]))  # Output: True (even number of items)\n"
   ]
  },
  {
   "cell_type": "code",
   "execution_count": 51,
   "id": "b77d335a-b153-4995-8cc3-d0e6c5cc2286",
   "metadata": {
    "tags": []
   },
   "outputs": [
    {
     "name": "stdout",
     "output_type": "stream",
     "text": [
      "3\n",
      "3\n",
      "0\n"
     ]
    }
   ],
   "source": [
    "def count(target, data):\n",
    "    if not data:\n",
    "        return 0\n",
    "    if data[0] == target:\n",
    "        return 1 + count(target, data[1:])\n",
    "    else:\n",
    "        return count(target, data[1:])\n",
    "\n",
    "\n",
    "print(count(3, [1, 2, 3, 4, 3, 3]))  \n",
    "print(count('x', ['p', 'q', 'r']))  \n"
   ]
  },
  {
   "cell_type": "code",
   "execution_count": 54,
   "id": "1d6a059f-e55f-4699-a4e6-c5c012a8a00d",
   "metadata": {
    "tags": []
   },
   "outputs": [
    {
     "name": "stdout",
     "output_type": "stream",
     "text": [
      "['apple', 'banana', 'orange', 'kiwi']\n"
     ]
    }
   ],
   "source": [
    "def mostFrequent(frequencies):\n",
    "    max_freq = 0  \n",
    "    most_frequent_keys = []  \n",
    "    \n",
    "    for key, freq in frequencies.items():\n",
    "        if freq > max_freq:\n",
    "            max_freq = freq  # Update max frequency\n",
    "            most_frequent_keys = [key] \n",
    "        elif freq == max_freq:\n",
    "            most_frequent_keys.append(key)  \n",
    "    \n",
    "    return most_frequent_keys  \n",
    "\n",
    "\n",
    "frequencies = {'apple': 4, 'banana': 4, 'orange': 4, 'kiwi': 4}\n",
    "\n",
    "result = mostFrequent(frequencies)\n",
    "print(result)  \n"
   ]
  },
  {
   "cell_type": "code",
   "execution_count": 55,
   "id": "874432c4-9bd7-4ce3-9129-67e495184a15",
   "metadata": {
    "tags": []
   },
   "outputs": [
    {
     "name": "stdout",
     "output_type": "stream",
     "text": [
      "{'a': 2, 'b': 1, 'c': 1}\n"
     ]
    }
   ],
   "source": [
    "def firstLetterCounts(wordList):\n",
    "    letter_counts = {}\n",
    "    \n",
    "    for word in wordList:\n",
    "        first_letter = word[0].lower()\n",
    "        if first_letter.islower() or first_letter.isupper():  # Check if it's a letter (either lowercase or uppercase)\n",
    "            if first_letter in letter_counts:\n",
    "                letter_counts[first_letter] += 1\n",
    "            else:\n",
    "                letter_counts[first_letter] = 1\n",
    "    \n",
    "    return letter_counts\n",
    "\n",
    "# Example list of words\n",
    "wordList = ['ant', 'bee', 'armadillo', ' dog', 'cat']\n",
    "\n",
    "result = firstLetterCounts(wordList)\n",
    "print(result)  # Output: {'a': 2, 'b': 1, 'c': 1, 'd': 1}\n"
   ]
  },
  {
   "cell_type": "code",
   "execution_count": 56,
   "id": "b8dcef29-d249-4e15-8024-5c414a7e95dd",
   "metadata": {
    "tags": []
   },
   "outputs": [
    {
     "name": "stdout",
     "output_type": "stream",
     "text": [
      "['th', ' b', 't of t', 'm']\n"
     ]
    }
   ],
   "source": [
    "def split(text, splitCharacters):\n",
    "    result = []\n",
    "    current = ''  \n",
    "    \n",
    "    for char in text:\n",
    "        if char in splitCharacters:  \n",
    "            if current:  \n",
    "                result.append(current)\n",
    "                current = ''  \n",
    "        else:\n",
    "            current += char  \n",
    "    \n",
    "    if current:  \n",
    "        result.append(current)\n",
    "    \n",
    "    return result\n",
    "\n",
    "\n",
    "output = split('the best of times', 'sei')\n",
    "print(output)  # Output: ['th', 'b', 't of t', 'm']\n"
   ]
  },
  {
   "cell_type": "code",
   "execution_count": null,
   "id": "085c8a0b-52fb-4468-82d3-e077acb15a9a",
   "metadata": {
    "tags": []
   },
   "outputs": [],
   "source": [
    "import turtle\n",
    "\n",
    "def quadkoch(tortoise, length, depth):\n",
    "    if depth == 0:\n",
    "        tortoise.forward(length)\n",
    "    else:\n",
    "        quadkoch(tortoise, length / 3, depth - 1)\n",
    "        tortoise.left(90)\n",
    "        quadkoch(tortoise, length / 3, depth - 1)\n",
    "        tortoise.right(90)\n",
    "        quadkoch(tortoise, length / 3, depth - 1)\n",
    "        tortoise.right(90)\n",
    "        quadkoch(tortoise, length / 3, depth - 1)\n",
    "        tortoise.left(90)\n",
    "        quadkoch(tortoise, length / 3, depth - 1)\n",
    "\n",
    "# Set up the turtle screen and settings\n",
    "screen = turtle.Screen()\n",
    "screen.setup(width=600, height=600)\n",
    "screen.title(\"Quadratic Koch Curve\")\n",
    "\n",
    "t = turtle.Turtle()\n",
    "t.speed(0)  \n",
    "\n",
    "t.penup()\n",
    "t.goto(-150, -150)\n",
    "t.pendown()\n",
    "quadkoch(t, 300, 3)  \n",
    "\n",
    "turtle.done()\n"
   ]
  }
 ],
 "metadata": {
  "kernelspec": {
   "display_name": "Python 3 (ipykernel)",
   "language": "python",
   "name": "python3"
  },
  "language_info": {
   "codemirror_mode": {
    "name": "ipython",
    "version": 3
   },
   "file_extension": ".py",
   "mimetype": "text/x-python",
   "name": "python",
   "nbconvert_exporter": "python",
   "pygments_lexer": "ipython3",
   "version": "3.11.4"
  }
 },
 "nbformat": 4,
 "nbformat_minor": 5
}
